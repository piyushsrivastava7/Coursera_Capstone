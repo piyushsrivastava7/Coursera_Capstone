{
 "cells": [
  {
   "cell_type": "markdown",
   "metadata": {},
   "source": [
    "## Recommender System for Dairy Products Contractor"
   ]
  },
  {
   "cell_type": "markdown",
   "metadata": {},
   "source": [
    "### Part 1: Introduction/Business Problem"
   ]
  },
  {
   "cell_type": "markdown",
   "metadata": {},
   "source": [
    "### A contractor wants to start his business of dairy products along with storage and distribution in the boroughs of Toronto (Scarborough). The contractor wants to set up a well-defined distribution system of milk and other dairy products in places such as restaurants, bakeries, food joints, brewery and cafe’s. The contractor also wants to build up the storage facility for fresh milk which he buys from nearby villages. \n"
   ]
  },
  {
   "cell_type": "markdown",
   "metadata": {},
   "source": [
    "### If the storage is nearby to popular restaurants and bakeries, then the fresh milk and other dairy products can be delivered in the least possible time and will improve the quality of service and reputation of the contractor."
   ]
  },
  {
   "cell_type": "markdown",
   "metadata": {},
   "source": [
    "### The contractor should set up his business at a place which is nearby to the place of his customers so as to minimize the cost of transportation. We need to find which neighborhood would be a better choice for the contractor. Our objective is to find the right neighborhood and our recommender system should provide the sorted list of neighborhoods wherein the first element will be the best suggested location. "
   ]
  },
  {
   "cell_type": "code",
   "execution_count": null,
   "metadata": {},
   "outputs": [],
   "source": []
  }
 ],
 "metadata": {
  "kernelspec": {
   "display_name": "Python 3",
   "language": "python",
   "name": "python3"
  },
  "language_info": {
   "codemirror_mode": {
    "name": "ipython",
    "version": 3
   },
   "file_extension": ".py",
   "mimetype": "text/x-python",
   "name": "python",
   "nbconvert_exporter": "python",
   "pygments_lexer": "ipython3",
   "version": "3.6.8"
  }
 },
 "nbformat": 4,
 "nbformat_minor": 2
}
